{
  "cells": [
    {
      "cell_type": "markdown",
      "metadata": {},
      "source": [
        "# MINI Interview Agent Proof-of-Concept\n",
        "\n",
        "A minimal LangChain-powered agent for conducting MINI (Mini International Neuropsychiatric Interview) assessments."
      ]
    },
    {
      "cell_type": "markdown",
      "metadata": {},
      "source": [
        "## 1 Setup\n",
        "\n",
        "Install required packages. Note: Colab will auto-restart after first install."
      ]
    },
    {
      "cell_type": "code",
      "execution_count": 2,
      "metadata": {},
      "outputs": [
        {
          "name": "stdout",
          "output_type": "stream",
          "text": [
            "Requirement already satisfied: langchain in /Library/Frameworks/Python.framework/Versions/3.10/lib/python3.10/site-packages (0.3.26)\n",
            "Requirement already satisfied: openai in /Library/Frameworks/Python.framework/Versions/3.10/lib/python3.10/site-packages (1.98.0)\n",
            "Requirement already satisfied: tiktoken in /Library/Frameworks/Python.framework/Versions/3.10/lib/python3.10/site-packages (0.9.0)\n",
            "Requirement already satisfied: ipykernel in /Users/jack/Library/Python/3.10/lib/python/site-packages (6.30.0)\n",
            "Collecting langchain-openai\n",
            "  Downloading langchain_openai-0.3.28-py3-none-any.whl.metadata (2.3 kB)\n",
            "Requirement already satisfied: langchain-core<1.0.0,>=0.3.66 in /Library/Frameworks/Python.framework/Versions/3.10/lib/python3.10/site-packages (from langchain) (0.3.70)\n",
            "Requirement already satisfied: langchain-text-splitters<1.0.0,>=0.3.8 in /Library/Frameworks/Python.framework/Versions/3.10/lib/python3.10/site-packages (from langchain) (0.3.8)\n",
            "Requirement already satisfied: langsmith>=0.1.17 in /Library/Frameworks/Python.framework/Versions/3.10/lib/python3.10/site-packages (from langchain) (0.4.8)\n",
            "Requirement already satisfied: pydantic<3.0.0,>=2.7.4 in /Library/Frameworks/Python.framework/Versions/3.10/lib/python3.10/site-packages (from langchain) (2.11.2)\n",
            "Requirement already satisfied: SQLAlchemy<3,>=1.4 in /Library/Frameworks/Python.framework/Versions/3.10/lib/python3.10/site-packages (from langchain) (2.0.41)\n",
            "Requirement already satisfied: requests<3,>=2 in /Library/Frameworks/Python.framework/Versions/3.10/lib/python3.10/site-packages (from langchain) (2.31.0)\n",
            "Requirement already satisfied: PyYAML>=5.3 in /Library/Frameworks/Python.framework/Versions/3.10/lib/python3.10/site-packages (from langchain) (6.0.2)\n",
            "Requirement already satisfied: async-timeout<5.0.0,>=4.0.0 in /Library/Frameworks/Python.framework/Versions/3.10/lib/python3.10/site-packages (from langchain) (4.0.3)\n",
            "Requirement already satisfied: tenacity!=8.4.0,<10.0.0,>=8.1.0 in /Library/Frameworks/Python.framework/Versions/3.10/lib/python3.10/site-packages (from langchain-core<1.0.0,>=0.3.66->langchain) (9.1.2)\n",
            "Requirement already satisfied: jsonpatch<2.0,>=1.33 in /Library/Frameworks/Python.framework/Versions/3.10/lib/python3.10/site-packages (from langchain-core<1.0.0,>=0.3.66->langchain) (1.33)\n",
            "Requirement already satisfied: typing-extensions>=4.7 in /Library/Frameworks/Python.framework/Versions/3.10/lib/python3.10/site-packages (from langchain-core<1.0.0,>=0.3.66->langchain) (4.13.1)\n",
            "Requirement already satisfied: packaging>=23.2 in /Library/Frameworks/Python.framework/Versions/3.10/lib/python3.10/site-packages (from langchain-core<1.0.0,>=0.3.66->langchain) (24.2)\n",
            "Requirement already satisfied: jsonpointer>=1.9 in /Library/Frameworks/Python.framework/Versions/3.10/lib/python3.10/site-packages (from jsonpatch<2.0,>=1.33->langchain-core<1.0.0,>=0.3.66->langchain) (3.0.0)\n",
            "Requirement already satisfied: annotated-types>=0.6.0 in /Library/Frameworks/Python.framework/Versions/3.10/lib/python3.10/site-packages (from pydantic<3.0.0,>=2.7.4->langchain) (0.7.0)\n",
            "Requirement already satisfied: pydantic-core==2.33.1 in /Library/Frameworks/Python.framework/Versions/3.10/lib/python3.10/site-packages (from pydantic<3.0.0,>=2.7.4->langchain) (2.33.1)\n",
            "Requirement already satisfied: typing-inspection>=0.4.0 in /Library/Frameworks/Python.framework/Versions/3.10/lib/python3.10/site-packages (from pydantic<3.0.0,>=2.7.4->langchain) (0.4.0)\n",
            "Requirement already satisfied: charset-normalizer<4,>=2 in /Library/Frameworks/Python.framework/Versions/3.10/lib/python3.10/site-packages (from requests<3,>=2->langchain) (3.4.1)\n",
            "Requirement already satisfied: idna<4,>=2.5 in /Library/Frameworks/Python.framework/Versions/3.10/lib/python3.10/site-packages (from requests<3,>=2->langchain) (3.10)\n",
            "Requirement already satisfied: urllib3<3,>=1.21.1 in /Library/Frameworks/Python.framework/Versions/3.10/lib/python3.10/site-packages (from requests<3,>=2->langchain) (2.3.0)\n",
            "Requirement already satisfied: certifi>=2017.4.17 in /Library/Frameworks/Python.framework/Versions/3.10/lib/python3.10/site-packages (from requests<3,>=2->langchain) (2025.1.31)\n",
            "Requirement already satisfied: anyio<5,>=3.5.0 in /Library/Frameworks/Python.framework/Versions/3.10/lib/python3.10/site-packages (from openai) (4.9.0)\n",
            "Requirement already satisfied: distro<2,>=1.7.0 in /Library/Frameworks/Python.framework/Versions/3.10/lib/python3.10/site-packages (from openai) (1.9.0)\n",
            "Requirement already satisfied: httpx<1,>=0.23.0 in /Library/Frameworks/Python.framework/Versions/3.10/lib/python3.10/site-packages (from openai) (0.28.1)\n",
            "Requirement already satisfied: jiter<1,>=0.4.0 in /Library/Frameworks/Python.framework/Versions/3.10/lib/python3.10/site-packages (from openai) (0.10.0)\n",
            "Requirement already satisfied: sniffio in /Library/Frameworks/Python.framework/Versions/3.10/lib/python3.10/site-packages (from openai) (1.3.1)\n",
            "Requirement already satisfied: tqdm>4 in /Library/Frameworks/Python.framework/Versions/3.10/lib/python3.10/site-packages (from openai) (4.67.1)\n",
            "Requirement already satisfied: exceptiongroup>=1.0.2 in /Library/Frameworks/Python.framework/Versions/3.10/lib/python3.10/site-packages (from anyio<5,>=3.5.0->openai) (1.3.0)\n",
            "Requirement already satisfied: httpcore==1.* in /Library/Frameworks/Python.framework/Versions/3.10/lib/python3.10/site-packages (from httpx<1,>=0.23.0->openai) (1.0.9)\n",
            "Requirement already satisfied: h11>=0.16 in /Library/Frameworks/Python.framework/Versions/3.10/lib/python3.10/site-packages (from httpcore==1.*->httpx<1,>=0.23.0->openai) (0.16.0)\n",
            "Requirement already satisfied: regex>=2022.1.18 in /Library/Frameworks/Python.framework/Versions/3.10/lib/python3.10/site-packages (from tiktoken) (2024.11.6)\n",
            "Requirement already satisfied: appnope>=0.1.2 in /Users/jack/Library/Python/3.10/lib/python/site-packages (from ipykernel) (0.1.4)\n",
            "Requirement already satisfied: comm>=0.1.1 in /Users/jack/Library/Python/3.10/lib/python/site-packages (from ipykernel) (0.2.3)\n",
            "Requirement already satisfied: debugpy>=1.6.5 in /Users/jack/Library/Python/3.10/lib/python/site-packages (from ipykernel) (1.8.15)\n",
            "Requirement already satisfied: ipython>=7.23.1 in /Users/jack/Library/Python/3.10/lib/python/site-packages (from ipykernel) (8.37.0)\n",
            "Requirement already satisfied: jupyter-client>=8.0.0 in /Users/jack/Library/Python/3.10/lib/python/site-packages (from ipykernel) (8.6.3)\n",
            "Requirement already satisfied: jupyter-core!=5.0.*,>=4.12 in /Users/jack/Library/Python/3.10/lib/python/site-packages (from ipykernel) (5.8.1)\n",
            "Requirement already satisfied: matplotlib-inline>=0.1 in /Users/jack/Library/Python/3.10/lib/python/site-packages (from ipykernel) (0.1.7)\n",
            "Requirement already satisfied: nest-asyncio>=1.4 in /Users/jack/Library/Python/3.10/lib/python/site-packages (from ipykernel) (1.6.0)\n",
            "Requirement already satisfied: psutil>=5.7 in /Library/Frameworks/Python.framework/Versions/3.10/lib/python3.10/site-packages (from ipykernel) (7.0.0)\n",
            "Requirement already satisfied: pyzmq>=25 in /Users/jack/Library/Python/3.10/lib/python/site-packages (from ipykernel) (27.0.0)\n",
            "Requirement already satisfied: tornado>=6.2 in /Users/jack/Library/Python/3.10/lib/python/site-packages (from ipykernel) (6.5.1)\n",
            "Requirement already satisfied: traitlets>=5.4.0 in /Users/jack/Library/Python/3.10/lib/python/site-packages (from ipykernel) (5.14.3)\n",
            "Requirement already satisfied: decorator in /Library/Frameworks/Python.framework/Versions/3.10/lib/python3.10/site-packages (from ipython>=7.23.1->ipykernel) (5.2.1)\n",
            "Requirement already satisfied: jedi>=0.16 in /Users/jack/Library/Python/3.10/lib/python/site-packages (from ipython>=7.23.1->ipykernel) (0.19.2)\n",
            "Requirement already satisfied: pexpect>4.3 in /Users/jack/Library/Python/3.10/lib/python/site-packages (from ipython>=7.23.1->ipykernel) (4.9.0)\n",
            "Requirement already satisfied: prompt_toolkit<3.1.0,>=3.0.41 in /Users/jack/Library/Python/3.10/lib/python/site-packages (from ipython>=7.23.1->ipykernel) (3.0.51)\n",
            "Requirement already satisfied: pygments>=2.4.0 in /Library/Frameworks/Python.framework/Versions/3.10/lib/python3.10/site-packages (from ipython>=7.23.1->ipykernel) (2.19.1)\n",
            "Requirement already satisfied: stack_data in /Users/jack/Library/Python/3.10/lib/python/site-packages (from ipython>=7.23.1->ipykernel) (0.6.3)\n",
            "Requirement already satisfied: wcwidth in /Users/jack/Library/Python/3.10/lib/python/site-packages (from prompt_toolkit<3.1.0,>=3.0.41->ipython>=7.23.1->ipykernel) (0.2.13)\n",
            "Requirement already satisfied: parso<0.9.0,>=0.8.4 in /Users/jack/Library/Python/3.10/lib/python/site-packages (from jedi>=0.16->ipython>=7.23.1->ipykernel) (0.8.4)\n",
            "Requirement already satisfied: python-dateutil>=2.8.2 in /Library/Frameworks/Python.framework/Versions/3.10/lib/python3.10/site-packages (from jupyter-client>=8.0.0->ipykernel) (2.9.0.post0)\n",
            "Requirement already satisfied: platformdirs>=2.5 in /Library/Frameworks/Python.framework/Versions/3.10/lib/python3.10/site-packages (from jupyter-core!=5.0.*,>=4.12->ipykernel) (4.3.7)\n",
            "Requirement already satisfied: orjson<4.0.0,>=3.9.14 in /Library/Frameworks/Python.framework/Versions/3.10/lib/python3.10/site-packages (from langsmith>=0.1.17->langchain) (3.11.0)\n",
            "Requirement already satisfied: requests-toolbelt<2.0.0,>=1.0.0 in /Library/Frameworks/Python.framework/Versions/3.10/lib/python3.10/site-packages (from langsmith>=0.1.17->langchain) (1.0.0)\n",
            "Requirement already satisfied: zstandard<0.24.0,>=0.23.0 in /Library/Frameworks/Python.framework/Versions/3.10/lib/python3.10/site-packages (from langsmith>=0.1.17->langchain) (0.23.0)\n",
            "Requirement already satisfied: ptyprocess>=0.5 in /Users/jack/Library/Python/3.10/lib/python/site-packages (from pexpect>4.3->ipython>=7.23.1->ipykernel) (0.7.0)\n",
            "Requirement already satisfied: six>=1.5 in /Library/Frameworks/Python.framework/Versions/3.10/lib/python3.10/site-packages (from python-dateutil>=2.8.2->jupyter-client>=8.0.0->ipykernel) (1.17.0)\n",
            "Requirement already satisfied: executing>=1.2.0 in /Users/jack/Library/Python/3.10/lib/python/site-packages (from stack_data->ipython>=7.23.1->ipykernel) (2.2.0)\n",
            "Requirement already satisfied: asttokens>=2.1.0 in /Users/jack/Library/Python/3.10/lib/python/site-packages (from stack_data->ipython>=7.23.1->ipykernel) (3.0.0)\n",
            "Requirement already satisfied: pure-eval in /Users/jack/Library/Python/3.10/lib/python/site-packages (from stack_data->ipython>=7.23.1->ipykernel) (0.2.3)\n",
            "Downloading langchain_openai-0.3.28-py3-none-any.whl (70 kB)\n",
            "Installing collected packages: langchain-openai\n",
            "Successfully installed langchain-openai-0.3.28\n",
            "Note: you may need to restart the kernel to use updated packages.\n"
          ]
        }
      ],
      "source": [
        "%pip install langchain openai tiktoken ipykernel langchain-openai"
      ]
    },
    {
      "cell_type": "markdown",
      "metadata": {},
      "source": [
        "## 2 Imports and Keys"
      ]
    },
    {
      "cell_type": "code",
      "execution_count": 2,
      "metadata": {},
      "outputs": [
        {
          "name": "stdout",
          "output_type": "stream",
          "text": [
            "API key configured\n"
          ]
        }
      ],
      "source": [
        "import os\n",
        "import json\n",
        "import getpass\n",
        "from langchain.prompts import PromptTemplate\n",
        "from langchain.chains import LLMChain\n",
        "from langchain_openai import ChatOpenAI\n",
        "\n",
        "def get_key():\n",
        "    \"\"\"Get OpenAI API key from environment or user input.\"\"\"\n",
        "    api_key = os.getenv('OPENAI_API_KEY')\n",
        "    if not api_key:\n",
        "        api_key = getpass.getpass('Enter your OpenAI API key: ')\n",
        "        os.environ['OPENAI_API_KEY'] = api_key\n",
        "    return api_key\n",
        "\n",
        "# Set up API key\n",
        "get_key()\n",
        "print(\"API key configured\")"
      ]
    },
    {
      "cell_type": "markdown",
      "metadata": {},
      "source": [
        "## 3 Load MINI Questions (Module E)"
      ]
    },
    {
      "cell_type": "code",
      "execution_count": null,
      "metadata": {},
      "outputs": [
        {
          "name": "stdout",
          "output_type": "stream",
          "text": [
            "Loaded 6 questions for Module E: Agoraphobia\n",
            "\n",
            "1. E1: Do you feel anxious or uneasy in places or situations where help might not be available or escape difficult if you had a panic-like or embarrassing symptom, such as being in a crowd or queue, in an open space or crossing a bridge, in an enclosed space, when alone away from home, when alone at home, or traveling in a bus, train, car, or using public transportation?\n",
            "\n",
            "2. E2: Do these situations almost always bring on fear or anxiety?\n",
            "\n",
            "Branching for E1:\n",
            "{'yes': 'E2', 'no': 'END_MODULE'}\n"
          ]
        }
      ],
      "source": [
        "# Load module data\n",
        "import json, pprint\n",
        "\n",
        "PATH = \"mini_modules/working/module_e.json\" \n",
        "with open(PATH, \"r\", encoding=\"utf-8\") as f:\n",
        "    module_data = json.load(f)\n",
        "\n",
        "mini_script = module_data[\"questions\"]     \n",
        "module_info = module_data[\"module\"]          \n",
        "\n",
        "# Prepare questions dictionary for easy access\n",
        "questions = {q[\"id\"]: q for q in mini_script}\n",
        "\n",
        "print(f\"Loaded {len(mini_script)} questions for Module {module_info['id']}: {module_info['name']}\\n\")\n",
        "\n",
        "for i, q in enumerate(mini_script[:2], start=1):\n",
        "    print(f\"{i}. {q['id']}: {q['prompt']}\\n\")\n",
        "\n",
        "# Branching logic retreival function\n",
        "def show_branches(qid: str):\n",
        "    if qid not in questions:\n",
        "        raise KeyError(f\"{qid!r} not found\")\n",
        "    next = questions[qid].get(\"next\", {})\n",
        "    print(f\"Branching for {qid}:\")\n",
        "    pprint.pp(next)\n",
        "\n",
        "# Example: inspect the first question’s branches\n",
        "show_branches(\"E1\")"
      ]
    },
    {
      "cell_type": "markdown",
      "metadata": {},
      "source": [
        "## 4 Prompt Template"
      ]
    },
    {
      "cell_type": "code",
      "execution_count": null,
      "metadata": {},
      "outputs": [],
      "source": [
        "QUESTION_PROMPT = PromptTemplate(\n",
        "    input_variables=[\"history\", \"question\"],\n",
        "    template=\"\"\"You are an AI agent with the role of a skilled clinician trained in professional physchological diagnosis and care conducting an interview based on the MINI questionnaire. Be concise, empathetic, and professional.\n",
        "\n",
        "Previous conversation:\n",
        "{history}\n",
        "\n",
        "Next question to ask:\n",
        "{question}\n",
        "\n",
        "Present this question in a natural, conversational way. Keep your response brief and focused, ask the question prompting a yes or no response from the patient.\"\"\"\n",
        ")"
      ]
    },
    {
      "cell_type": "markdown",
      "metadata": {},
      "source": [
        "## 5 Chain Constructor"
      ]
    },
    {
      "cell_type": "code",
      "execution_count": null,
      "metadata": {},
      "outputs": [],
      "source": [
        "# Build LangChain Agent\n",
        "def build_interview_agent(llm):\n",
        "    return LLMChain(\n",
        "        llm=llm,\n",
        "        prompt=QUESTION_PROMPT,\n",
        "        verbose=False\n",
        "    )"
      ]
    },
    {
      "cell_type": "markdown",
      "metadata": {},
      "source": [
        "## 6 Interview Loop"
      ]
    },
    {
      "cell_type": "code",
      "execution_count": null,
      "metadata": {},
      "outputs": [],
      "source": [
        "# Execute MINI interview simulation\n",
        "\n",
        "def run_interview():\n",
        "    llm = ChatOpenAI(model=\"gpt-4o-mini\", temperature=0.2)\n",
        "    agent = build_interview_agent(llm)\n",
        "    \n",
        "    conversation_log = []\n",
        "    history = \"\"\n",
        "    \n",
        "    print(f\"Starting MINI Module {module_info['id']}: {module_info['name']}\\n\")\n",
        "    print(\"=\" * 60)\n",
        "    \n",
        "    for i, question_data in enumerate(mini_script):\n",
        "        question_id = question_data[\"id\"]\n",
        "        question_text = question_data[\"prompt\"]\n",
        "        \n",
        "        print(f\"\\n[Question {question_id}]\")\n",
        "        \n",
        "        # Generate clinician response\n",
        "        response = agent.run(\n",
        "            history=history,\n",
        "            question=question_text\n",
        "        )\n",
        "        \n",
        "        print(f\"Clinician: {response}\")\n",
        "        \n",
        "        # Patient response\n",
        "        patient_answer = input(f\"Type your answer:\")\n",
        "\n",
        "        history += f\"Q{question_id}: {response}\\nA: {patient_answer}\\n\\n\"\n",
        "\n",
        "        # Evaluate next step based on patient answer\n",
        "        branching_logic = show_branches(question_id)\n",
        "        next_question = agent.run(\n",
        "            history=history,\n",
        "            question=f\"Based on the patient's response: {patient_answer} to {question_id}: {question_text}, use {branching_logic} to evaluate which question from should you ask next\"\n",
        "        )\n",
        "\n",
        "        # Update conversation log and history\n",
        "        conversation_log.append({\n",
        "            \"question_id\": question_id,\n",
        "            \"clinician\": response,\n",
        "            \"patient\": patient_answer\n",
        "        })\n",
        "    \n",
        "    print(\"\\n\" + \"=\" * 60)\n",
        "    print(f\"Interview completed. Total exchanges: {len(conversation_log)}\")\n",
        "    \n",
        "    return conversation_log"
      ]
    },
    {
      "cell_type": "markdown",
      "metadata": {},
      "source": [
        "## 7 Demo Run"
      ]
    },
    {
      "cell_type": "code",
      "execution_count": 8,
      "metadata": {},
      "outputs": [
        {
          "name": "stderr",
          "output_type": "stream",
          "text": [
            "/var/folders/5r/2h_9fsqs71s8v9wdpjjb8fb40000gn/T/ipykernel_58261/2420036983.py:3: LangChainDeprecationWarning: The class `LLMChain` was deprecated in LangChain 0.1.17 and will be removed in 1.0. Use :meth:`~RunnableSequence, e.g., `prompt | llm`` instead.\n",
            "  return LLMChain(\n",
            "/var/folders/5r/2h_9fsqs71s8v9wdpjjb8fb40000gn/T/ipykernel_58261/910833007.py:19: LangChainDeprecationWarning: The method `Chain.run` was deprecated in langchain 0.1.0 and will be removed in 1.0. Use :meth:`~invoke` instead.\n",
            "  response = agent.run(\n"
          ]
        },
        {
          "name": "stdout",
          "output_type": "stream",
          "text": [
            "Starting MINI Module E: Agoraphobia\n",
            "\n",
            "============================================================\n",
            "\n",
            "[Question E1]\n",
            "Clinician: I appreciate you sharing your thoughts with me. I’d like to ask about your feelings in certain situations. Do you ever feel anxious or uneasy in places where help might not be available, or if you experienced panic-like symptoms, such as being in a crowd, an open space, or while traveling? Just a simple yes or no is fine.\n",
            "Branching for E1:\n",
            "{'yes': 'E2', 'no': 'END_MODULE'}\n",
            "\n",
            "[Question E2]\n",
            "Clinician: Thank you for your openness. I’d like to know, do these situations almost always bring on feelings of fear or anxiety for you? Just a simple yes or no is fine.\n",
            "Branching for E2:\n",
            "{'yes': 'E3', 'no': 'END_MODULE'}\n",
            "\n",
            "[Question E3]\n",
            "Clinician: Thank you for sharing that with me. I’d like to understand a bit more about how you cope. Do you find that you fear these situations so much that you either avoid them, endure them with discomfort, or feel you need someone with you to face them? Just a simple yes or no is fine.\n",
            "Branching for E3:\n",
            "{'yes': 'E4', 'no': 'END_MODULE'}\n",
            "\n",
            "[Question E4]\n",
            "Clinician: Thank you for your honesty. I’d like to ask, do you feel that this fear or anxiety is excessive or out of proportion to the actual danger in those situations? Just a simple yes or no is fine.\n",
            "Branching for E4:\n",
            "{'yes': 'E5', 'no': 'END_MODULE'}\n",
            "\n",
            "[Question E5]\n",
            "Clinician: Thank you for your continued openness. I’d like to know, has this avoidance, fear, or anxiety been present for at least 6 months? Just a simple yes or no is fine.\n",
            "Branching for E5:\n",
            "{'yes': 'E6', 'no': 'END_MODULE'}\n",
            "\n",
            "[Question E6]\n",
            "Clinician: Thank you for your honesty so far. I’d like to understand how this has impacted your life. Have these symptoms caused significant distress or problems for you at home, work, school, or in any other important areas? Just a simple yes or no is fine.\n",
            "Branching for E6:\n",
            "{'yes': 'DIAGNOSTIC', 'no': 'END_MODULE'}\n",
            "\n",
            "============================================================\n",
            "Interview completed. Total exchanges: 6\n"
          ]
        }
      ],
      "source": [
        "# Execute the interview\n",
        "results = run_interview()"
      ]
    },
    {
      "cell_type": "markdown",
      "metadata": {},
      "source": [
        "## 8 Next Steps\n",
        "\n",
        "Potential enhancements for this proof-of-concept:\n",
        "\n",
        "- Add diagnosis\n",
        "- Add threat detection (e.g. patient has suicidal thoughts)\n",
        "- Add persistent storage for interview results and scoring\n",
        "- Add multi module function\n"
      ]
    }
  ],
  "metadata": {
    "kernelspec": {
      "display_name": "Python 3",
      "language": "python",
      "name": "python3"
    },
    "language_info": {
      "codemirror_mode": {
        "name": "ipython",
        "version": 3
      },
      "file_extension": ".py",
      "mimetype": "text/x-python",
      "name": "python",
      "nbconvert_exporter": "python",
      "pygments_lexer": "ipython3",
      "version": "3.10.11"
    }
  },
  "nbformat": 4,
  "nbformat_minor": 4
}
